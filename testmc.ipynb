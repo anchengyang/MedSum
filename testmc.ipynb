{
 "cells": [
  {
   "cell_type": "code",
   "execution_count": 1,
   "metadata": {
    "metadata": {}
   },
   "outputs": [],
   "source": [
    "import os\n",
    "from Classes.MetaDataCSVLoader import MetaDataCSVLoader\n",
    "from Classes.FilteringClient import FilteringClient\n",
    "from Classes.PubMedClient import PubMedClient\n",
    "from utils.constants import keywords, study_designs, system_template, metadata_columns\n",
    "from utils.utils import create_df_fill_full_abstract, extract_keywords_from_results\n",
    "import pandas as pd\n"
   ]
  },
  {
   "cell_type": "code",
   "execution_count": 2,
   "metadata": {
    "metadata": {}
   },
   "outputs": [
    {
     "data": {
      "text/html": [
       "<div>\n",
       "<style scoped>\n",
       "    .dataframe tbody tr th:only-of-type {\n",
       "        vertical-align: middle;\n",
       "    }\n",
       "\n",
       "    .dataframe tbody tr th {\n",
       "        vertical-align: top;\n",
       "    }\n",
       "\n",
       "    .dataframe thead th {\n",
       "        text-align: right;\n",
       "    }\n",
       "</style>\n",
       "<table border=\"1\" class=\"dataframe\">\n",
       "  <thead>\n",
       "    <tr style=\"text-align: right;\">\n",
       "      <th></th>\n",
       "      <th>PMID</th>\n",
       "      <th>Title</th>\n",
       "      <th>Abstract</th>\n",
       "    </tr>\n",
       "  </thead>\n",
       "  <tbody>\n",
       "    <tr>\n",
       "      <th>0</th>\n",
       "      <td>33222680</td>\n",
       "      <td>COVID-19 Outbreak: Neurological Manifestations...</td>\n",
       "      <td>[COVID-19 is one of the most disastrous respir...</td>\n",
       "    </tr>\n",
       "    <tr>\n",
       "      <th>1</th>\n",
       "      <td>34117360</td>\n",
       "      <td>Diagnosis of COVID-19 in children guided by la...</td>\n",
       "      <td>Of all the suspected infected, 2596 tested neg...</td>\n",
       "    </tr>\n",
       "    <tr>\n",
       "      <th>2</th>\n",
       "      <td>33797605</td>\n",
       "      <td>A systematic review of pregnant women with COV...</td>\n",
       "      <td>[In December 2019, a novel coronavirus disease...</td>\n",
       "    </tr>\n",
       "    <tr>\n",
       "      <th>3</th>\n",
       "      <td>33231411</td>\n",
       "      <td>Fever management in COVID-19 patients.</td>\n",
       "      <td>No Abstract</td>\n",
       "    </tr>\n",
       "    <tr>\n",
       "      <th>4</th>\n",
       "      <td>35545266</td>\n",
       "      <td>Unresolving fever, headache, cough, and negati...</td>\n",
       "      <td>No Abstract</td>\n",
       "    </tr>\n",
       "    <tr>\n",
       "      <th>...</th>\n",
       "      <td>...</td>\n",
       "      <td>...</td>\n",
       "      <td>...</td>\n",
       "    </tr>\n",
       "    <tr>\n",
       "      <th>995</th>\n",
       "      <td>34398733</td>\n",
       "      <td>An exploration of parental awareness, knowledg...</td>\n",
       "      <td>The study sample consisted of 141 parents, of ...</td>\n",
       "    </tr>\n",
       "    <tr>\n",
       "      <th>996</th>\n",
       "      <td>32362394</td>\n",
       "      <td>First cases of COVID-19 in heart transplantati...</td>\n",
       "      <td>No Abstract</td>\n",
       "    </tr>\n",
       "    <tr>\n",
       "      <th>997</th>\n",
       "      <td>35135793</td>\n",
       "      <td>Multisystem inflammatory syndrome in an adult ...</td>\n",
       "      <td>[Kawasaki-like multisystem inflammatory syndro...</td>\n",
       "    </tr>\n",
       "    <tr>\n",
       "      <th>998</th>\n",
       "      <td>34020435</td>\n",
       "      <td>RT-PCR diagnosis of COVID-19 from exhaled brea...</td>\n",
       "      <td>[Current diagnostic testing for coronavirus di...</td>\n",
       "    </tr>\n",
       "    <tr>\n",
       "      <th>999</th>\n",
       "      <td>33929003</td>\n",
       "      <td>An update on Sars-CoV-2: a review.</td>\n",
       "      <td>[Sars-CoV-2 is a new global health challenge t...</td>\n",
       "    </tr>\n",
       "  </tbody>\n",
       "</table>\n",
       "<p>1000 rows × 3 columns</p>\n",
       "</div>"
      ],
      "text/plain": [
       "         PMID                                              Title  \\\n",
       "0    33222680  COVID-19 Outbreak: Neurological Manifestations...   \n",
       "1    34117360  Diagnosis of COVID-19 in children guided by la...   \n",
       "2    33797605  A systematic review of pregnant women with COV...   \n",
       "3    33231411             Fever management in COVID-19 patients.   \n",
       "4    35545266  Unresolving fever, headache, cough, and negati...   \n",
       "..        ...                                                ...   \n",
       "995  34398733  An exploration of parental awareness, knowledg...   \n",
       "996  32362394  First cases of COVID-19 in heart transplantati...   \n",
       "997  35135793  Multisystem inflammatory syndrome in an adult ...   \n",
       "998  34020435  RT-PCR diagnosis of COVID-19 from exhaled brea...   \n",
       "999  33929003                 An update on Sars-CoV-2: a review.   \n",
       "\n",
       "                                              Abstract  \n",
       "0    [COVID-19 is one of the most disastrous respir...  \n",
       "1    Of all the suspected infected, 2596 tested neg...  \n",
       "2    [In December 2019, a novel coronavirus disease...  \n",
       "3                                          No Abstract  \n",
       "4                                          No Abstract  \n",
       "..                                                 ...  \n",
       "995  The study sample consisted of 141 parents, of ...  \n",
       "996                                        No Abstract  \n",
       "997  [Kawasaki-like multisystem inflammatory syndro...  \n",
       "998  [Current diagnostic testing for coronavirus di...  \n",
       "999  [Sars-CoV-2 is a new global health challenge t...  \n",
       "\n",
       "[1000 rows x 3 columns]"
      ]
     },
     "metadata": {},
     "output_type": "display_data"
    },
    {
     "name": "stdout",
     "output_type": "stream",
     "text": [
      "1000\n",
      "<class 'langchain_core.documents.base.Document'>\n"
     ]
    }
   ],
   "source": [
    "\n",
    "# Process the data\n",
    "# openai = OpenAIClient()\n",
    "pubmed = PubMedClient()\n",
    "\n",
    "# Retrieving results from PubMed as a df\n",
    "results = pubmed.search('fever AND covid', max_results=1000)\n",
    "id_list = results['IdList']\n",
    "papers = pubmed.fetch_details(id_list)\n",
    "df = create_df_fill_full_abstract(papers)\n",
    "# Columns = 'PMID', 'Title', 'Abstract', 'Journal', 'Language', 'Year', 'Month', 'Abstract_1'\n",
    "\n",
    "# Extracting only the PMID and Abstract\n",
    "df_abstracts = pd.DataFrame(df, columns=['PMID', 'Title', 'Abstract'])\n",
    "display(df_abstracts)\n",
    "\n",
    "# check if data folder exists, if not create it\n",
    "if not os.path.exists('data'):\n",
    "    os.makedirs('data')\n",
    "\n",
    "# save to csv\n",
    "df_abstracts.to_csv('data/pubmedabstracts.csv', index=False)\n",
    "\n",
    "\n",
    "metadata_columns = ['PMID', 'Title', 'Abstract']\n",
    "# load the csv into a list of documents\n",
    "loader = MetaDataCSVLoader(file_path=\"data/pubmedabstracts.csv\", \n",
    "                           metadata_columns=metadata_columns, \n",
    "                           encoding=\"utf-8\")\n",
    "bg_data = loader.load()\n",
    "\n",
    "print(len(bg_data))\n",
    "print(type(bg_data[0]))\n",
    "# Create an instance of the FilteringClient using the data\n",
    "filteringclient = FilteringClient(bg_data)\n",
    "\n"
   ]
  },
  {
   "cell_type": "code",
   "execution_count": 3,
   "metadata": {},
   "outputs": [
    {
     "name": "stdout",
     "output_type": "stream",
     "text": [
      "Loading DB\n",
      "\n",
      "        ### Question: \n",
      "        What is the effect of covid on the reproductive system?\n",
      "\n",
      "        ### Response: \n",
      "        As a language model AI, I don't have the ability to access real-time databases or internet to provide specific articles from PubMed. However, I can guide you on how to select the articles based on the given abstracts and PICO.\n",
      "\n",
      "Since the abstracts provided are all the same, I will use it as an example:\n",
      "\n",
      "Title: [Assuming the title is] \"The Impact of SARS-CoV-2 on Semen Parameters in COVID-19 Patients\"\n",
      "PMID: [Assuming the PubMed ID is] 123456\n",
      "\n",
      "Reason for Selection: This article is relevant to the research question as it investigates the effect of SARS-CoV-2 on semen parameters, which is a component of the male reproductive system. The study compares semen analyses before and after COVID-19 diagnosis, which aligns with the PICO components of 'Intervention' (COVID-19) and 'Outcome' (reproductive system complications). \n",
      "\n",
      "Snippet from the Article: \"Clinical and histopathological evidence suggest that the male reproductive system may be negatively impacted in patients with coronavirus disease (COVID-19). The objective of this study is to investigate the effect of severe acute respiratory syndrome coronavirus 2 (SARS-CoV-2) on semen parameters by comparing semen analyses before and after COVID-19 diagnosis in the same patient.\"\n",
      "\n",
      "Remember, when you have access to the actual articles, you need to read through them to ensure they fit your PICO and research question. Also, make sure to check if the study design of the articles is appropriate for your research (e.g., if you are looking for randomized controlled trials, the selected articles should be of this type).\n",
      "\n",
      "        ### Reference Links:\n",
      "        https://pubmed.ncbi.nlm.nih.gov/37695129/\n",
      "        \n"
     ]
    }
   ],
   "source": [
    "query = \"What is the effect of covid on the reproductive system?\"\n",
    "no_of_articles = 2 \n",
    "population = \"covid\"\n",
    "intervention = \"COVID-19 Vaccine\"\n",
    "comparison = \"Placebo\"\n",
    "outcome = \"reproductive system complications\"    \n",
    "\n",
    "output = filteringclient.rag_result(query, no_of_articles, population, intervention, comparison, outcome)"
   ]
  },
  {
   "cell_type": "code",
   "execution_count": 4,
   "metadata": {},
   "outputs": [],
   "source": [
    "from langchain.chains import create_retrieval_chain\n",
    "from langchain.chains.combine_documents import create_stuff_documents_chain\n",
    "from langchain_openai import OpenAIEmbeddings, ChatOpenAI\n",
    "from langchain.prompts import PromptTemplate\n",
    "from langchain.chains import create_retrieval_chain\n",
    "from langchain.chains.combine_documents import create_stuff_documents_chain\n",
    "from langchain_openai import OpenAIEmbeddings, ChatOpenAI\n",
    "from langchain.prompts import PromptTemplate\n",
    "from IPython.display import display, Markdown\n",
    "\n",
    "\n",
    "\n",
    "model = ChatOpenAI(temperature=0)\n",
    "retriever = filteringclient.get_retriever()\n",
    "\n",
    "\n",
    "prompt = PromptTemplate(\n",
    "   input_variables=[\"research_question\", \"population\", \"intervention\", \"comparison\", \"outcome\", \"no_of_articles\"],\n",
    "   template=\n",
    "   \"\"\"\n",
    "    You are a researcher performing a literature review based on a research question, PICO, and a number of documents to select.\n",
    "    PICO is an acronym for Population, Intervention, Comparison, and Outcome, and it's a framework used in research to structure questions and facilitate literature reviews.\n",
    "    Research Question: {input}\n",
    "    Population: {population}\n",
    "    Intervention: {intervention}\n",
    "    Comparison: {comparison}\n",
    "    Outcome: {outcome}\n",
    "    Number of Articles to Select: {no_of_articles}\n",
    "\n",
    "    The dataset provided is a pre-processed dataset of PubMed articles.\n",
    "    It includes the following columns:\n",
    "    'PMID': the PubMed ID of the published article,\n",
    "    'Title': the title of the published article,\n",
    "    'Abstract': an abstract of the published article,\n",
    "    ----------------\n",
    "    {context}\n",
    "    --------------\n",
    "\n",
    "    Based on these details, you are required to select {no_of_articles} articles that are most relevant to the research question.\n",
    "    For each of these articles, provide:\n",
    "    - The title of the article\n",
    "    - The PMID of the article\n",
    "    - A Snippet from the abstract of the article which is most relevant to the research question\n",
    "    - A brief description of the reason why you selected it\n",
    "\n",
    "\n",
    "    If there are actual numbers and percentages, state it.\n",
    "    For the numbers and percentages, provide a reference list stating the title and the year of publication.\n",
    "    \"\"\"\n",
    ")\n",
    "\n",
    "question_answer_chain = create_stuff_documents_chain(\n",
    "    model, prompt)\n",
    "chain = create_retrieval_chain(retriever, question_answer_chain)\n"
   ]
  },
  {
   "cell_type": "code",
   "execution_count": 9,
   "metadata": {},
   "outputs": [
    {
     "data": {
      "text/plain": [
       "[Document(page_content=\"treatments has the potential to prevent COVID-19 and to decrease the severity of mild and moderate cases of Coronavirus. We propose heat treatments for this uncontrolled worldwide coronavirus pandemic while studies are being done to test the effectiveness of heat treatments in the prevention and treatment of COVID-19.']\", metadata={'Abstract': \"['COVID-19 is a new contagious disease caused by a new coronavirus known as severe acute respiratory syndrome coronavirus 2 (SARS-CoV-2). COVID-19 is a disease that has reached every continent in the world; it has overloaded the medical system worldwide and it has been declared a pandemic by the World Health Organization. Currently there is no definite treatment for COVID-19. We realize that host immunity is a critical factor in the outcome of coronavirus 2 infection. Here, however, we review the pathophysiology of the disease with a focus on searching for what we can do to combat this new disease. From this, we find that coronavirus is sensitive to heat. We have thus focused on this area of vulnerability of the virus. The emphasis of this hypothesis is on the action of body heat-internal (fever) and external (heat treatment)-in activating the immune system and its antiviral activities, and specifically related to the coronavirus. We hypothesize from this review that heat treatments has the potential to prevent COVID-19 and to decrease the severity of mild and moderate cases of Coronavirus. We propose heat treatments for this uncontrolled worldwide coronavirus pandemic while studies are being done to test the effectiveness of heat treatments in the prevention and treatment of COVID-19.']\", 'PMID': '33303302', 'Title': 'Hydrothermotherapy in prevention and treatment of mild to moderate cases of COVID-19.', 'row': 20, 'source': 'data/pubmedabstracts.csv'})]"
      ]
     },
     "execution_count": 9,
     "metadata": {},
     "output_type": "execute_result"
    }
   ],
   "source": [
    "query_los = \"Share 1 document detailing COVID treatment\"\n",
    "\n",
    "retriever = openai.get_retriever()\n",
    "retriever.invoke(query_los)"
   ]
  },
  {
   "cell_type": "code",
   "execution_count": null,
   "metadata": {},
   "outputs": [],
   "source": [
    "for doc in result[\"source_documents\"]:\n",
    "    print(doc.metadata)\n",
    "    print(doc.page_content)\n",
    "\n",
    "    pmid = doc.metadata[\"PMID\"]\n",
    "    link = f\"https://pubmed.ncbi.nlm.nih.gov/{pmid}/\"\n",
    "    print(link)\n",
    "    print(\"\\n\\n\")"
   ]
  },
  {
   "cell_type": "code",
   "execution_count": null,
   "metadata": {},
   "outputs": [],
   "source": [
    "query_los = \"Wwhat is the effect of covid on the reproductive system?\"\n",
    "\n",
    "result = openai.print_result(query_los, system_template)\n",
    "print(result[\"source_documents\"])"
   ]
  },
  {
   "cell_type": "code",
   "execution_count": null,
   "metadata": {},
   "outputs": [],
   "source": [
    "for doc in result[\"source_documents\"]:\n",
    "    print(doc.metadata)\n",
    "    print(doc.page_content)\n",
    "    print(\"\\n\\n\")"
   ]
  },
  {
   "cell_type": "code",
   "execution_count": null,
   "metadata": {},
   "outputs": [],
   "source": [
    "client = PubMedClient()\n",
    "results = client.search('fever AND covid', max_results=10)\n",
    "id_list = results['IdList']\n",
    "papers = client.fetch_details(id_list)\n",
    "print(papers)\n",
    "df = create_df_fill_full_abstract(papers)\n",
    "display(df)\n",
    "\n",
    "extract_abstract = extract_keywords_from_results(df, keywords, study_designs)\n",
    "display(extract_abstract)"
   ]
  },
  {
   "cell_type": "code",
   "execution_count": null,
   "metadata": {},
   "outputs": [],
   "source": [
    "papers"
   ]
  },
  {
   "cell_type": "code",
   "execution_count": null,
   "metadata": {},
   "outputs": [],
   "source": [
    "extract_abstract.columns"
   ]
  },
  {
   "cell_type": "code",
   "execution_count": null,
   "metadata": {},
   "outputs": [],
   "source": [
    "pmid = papers[\"PubmedArticle\"][0][\"MedlineCitation\"][\"PMID\"]"
   ]
  },
  {
   "cell_type": "code",
   "execution_count": null,
   "metadata": {},
   "outputs": [],
   "source": [
    "str(pmid)"
   ]
  },
  {
   "cell_type": "code",
   "execution_count": null,
   "metadata": {},
   "outputs": [],
   "source": [
    "link = f\"https://pubmed.ncbi.nlm.nih.gov/{str(pmid)}\""
   ]
  }
 ],
 "metadata": {
  "kernelspec": {
   "display_name": "myenv",
   "language": "python",
   "name": "python3"
  },
  "language_info": {
   "codemirror_mode": {
    "name": "ipython",
    "version": 3
   },
   "file_extension": ".py",
   "mimetype": "text/x-python",
   "name": "python",
   "nbconvert_exporter": "python",
   "pygments_lexer": "ipython3",
   "version": "3.12.2"
  }
 },
 "nbformat": 4,
 "nbformat_minor": 2
}
