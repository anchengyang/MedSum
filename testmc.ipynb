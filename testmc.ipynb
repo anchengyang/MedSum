{
 "cells": [
  {
   "cell_type": "code",
   "execution_count": 1,
   "metadata": {
    "metadata": {}
   },
   "outputs": [],
   "source": [
    "import os\n",
    "from Classes.MetaDataCSVLoader import MetaDataCSVLoader\n",
    "from Classes.OpenAIClient import OpenAIClient\n",
    "from Classes.FilteringClient import FilteringClient\n",
    "from Classes.PubMedClient import PubMedClient\n",
    "from utils.constants import keywords, study_designs, system_template, metadata_columns\n",
    "from utils.utils import create_df_fill_full_abstract, extract_keywords_from_results\n",
    "import pandas as pd\n"
   ]
  },
  {
   "cell_type": "code",
   "execution_count": 2,
   "metadata": {
    "metadata": {}
   },
   "outputs": [
    {
     "data": {
      "text/html": [
       "<div>\n",
       "<style scoped>\n",
       "    .dataframe tbody tr th:only-of-type {\n",
       "        vertical-align: middle;\n",
       "    }\n",
       "\n",
       "    .dataframe tbody tr th {\n",
       "        vertical-align: top;\n",
       "    }\n",
       "\n",
       "    .dataframe thead th {\n",
       "        text-align: right;\n",
       "    }\n",
       "</style>\n",
       "<table border=\"1\" class=\"dataframe\">\n",
       "  <thead>\n",
       "    <tr style=\"text-align: right;\">\n",
       "      <th></th>\n",
       "      <th>PMID</th>\n",
       "      <th>Title</th>\n",
       "      <th>Abstract</th>\n",
       "    </tr>\n",
       "  </thead>\n",
       "  <tbody>\n",
       "    <tr>\n",
       "      <th>0</th>\n",
       "      <td>33222680</td>\n",
       "      <td>COVID-19 Outbreak: Neurological Manifestations...</td>\n",
       "      <td>[COVID-19 is one of the most disastrous respir...</td>\n",
       "    </tr>\n",
       "    <tr>\n",
       "      <th>1</th>\n",
       "      <td>34117360</td>\n",
       "      <td>Diagnosis of COVID-19 in children guided by la...</td>\n",
       "      <td>Of all the suspected infected, 2596 tested neg...</td>\n",
       "    </tr>\n",
       "    <tr>\n",
       "      <th>2</th>\n",
       "      <td>33797605</td>\n",
       "      <td>A systematic review of pregnant women with COV...</td>\n",
       "      <td>[In December 2019, a novel coronavirus disease...</td>\n",
       "    </tr>\n",
       "    <tr>\n",
       "      <th>3</th>\n",
       "      <td>37399831</td>\n",
       "      <td>Associations of COVID-19 symptoms with omicron...</td>\n",
       "      <td>[Previous SARS-CoV-2 infection and vaccination...</td>\n",
       "    </tr>\n",
       "    <tr>\n",
       "      <th>4</th>\n",
       "      <td>35545266</td>\n",
       "      <td>Unresolving fever, headache, cough, and negati...</td>\n",
       "      <td>No Abstract</td>\n",
       "    </tr>\n",
       "    <tr>\n",
       "      <th>...</th>\n",
       "      <td>...</td>\n",
       "      <td>...</td>\n",
       "      <td>...</td>\n",
       "    </tr>\n",
       "    <tr>\n",
       "      <th>995</th>\n",
       "      <td>35135793</td>\n",
       "      <td>Multisystem inflammatory syndrome in an adult ...</td>\n",
       "      <td>[Kawasaki-like multisystem inflammatory syndro...</td>\n",
       "    </tr>\n",
       "    <tr>\n",
       "      <th>996</th>\n",
       "      <td>34020435</td>\n",
       "      <td>RT-PCR diagnosis of COVID-19 from exhaled brea...</td>\n",
       "      <td>[Current diagnostic testing for coronavirus di...</td>\n",
       "    </tr>\n",
       "    <tr>\n",
       "      <th>997</th>\n",
       "      <td>33929003</td>\n",
       "      <td>An update on Sars-CoV-2: a review.</td>\n",
       "      <td>[Sars-CoV-2 is a new global health challenge t...</td>\n",
       "    </tr>\n",
       "    <tr>\n",
       "      <th>998</th>\n",
       "      <td>33132333</td>\n",
       "      <td>Clinical and Microbiological Features of Asymp...</td>\n",
       "      <td>[Objective To describe the clinical features a...</td>\n",
       "    </tr>\n",
       "    <tr>\n",
       "      <th>999</th>\n",
       "      <td>38233057</td>\n",
       "      <td>Definition and measurement of post-COVID-19 co...</td>\n",
       "      <td>[Post-COVID-19 conditions (PCC) is an umbrella...</td>\n",
       "    </tr>\n",
       "  </tbody>\n",
       "</table>\n",
       "<p>1000 rows × 3 columns</p>\n",
       "</div>"
      ],
      "text/plain": [
       "         PMID                                              Title  \\\n",
       "0    33222680  COVID-19 Outbreak: Neurological Manifestations...   \n",
       "1    34117360  Diagnosis of COVID-19 in children guided by la...   \n",
       "2    33797605  A systematic review of pregnant women with COV...   \n",
       "3    37399831  Associations of COVID-19 symptoms with omicron...   \n",
       "4    35545266  Unresolving fever, headache, cough, and negati...   \n",
       "..        ...                                                ...   \n",
       "995  35135793  Multisystem inflammatory syndrome in an adult ...   \n",
       "996  34020435  RT-PCR diagnosis of COVID-19 from exhaled brea...   \n",
       "997  33929003                 An update on Sars-CoV-2: a review.   \n",
       "998  33132333  Clinical and Microbiological Features of Asymp...   \n",
       "999  38233057  Definition and measurement of post-COVID-19 co...   \n",
       "\n",
       "                                              Abstract  \n",
       "0    [COVID-19 is one of the most disastrous respir...  \n",
       "1    Of all the suspected infected, 2596 tested neg...  \n",
       "2    [In December 2019, a novel coronavirus disease...  \n",
       "3    [Previous SARS-CoV-2 infection and vaccination...  \n",
       "4                                          No Abstract  \n",
       "..                                                 ...  \n",
       "995  [Kawasaki-like multisystem inflammatory syndro...  \n",
       "996  [Current diagnostic testing for coronavirus di...  \n",
       "997  [Sars-CoV-2 is a new global health challenge t...  \n",
       "998  [Objective To describe the clinical features a...  \n",
       "999  [Post-COVID-19 conditions (PCC) is an umbrella...  \n",
       "\n",
       "[1000 rows x 3 columns]"
      ]
     },
     "metadata": {},
     "output_type": "display_data"
    },
    {
     "name": "stdout",
     "output_type": "stream",
     "text": [
      "1000\n",
      "<class 'langchain_core.documents.base.Document'>\n"
     ]
    }
   ],
   "source": [
    "\n",
    "# Process the data\n",
    "# openai = OpenAIClient()\n",
    "pubmed = PubMedClient()\n",
    "\n",
    "# Retrieving results from PubMed as a df\n",
    "results = pubmed.search('fever AND covid', max_results=1000)\n",
    "id_list = results['IdList']\n",
    "papers = pubmed.fetch_details(id_list)\n",
    "df = create_df_fill_full_abstract(papers)\n",
    "# Columns = 'PMID', 'Title', 'Abstract', 'Journal', 'Language', 'Year', 'Month', 'Abstract_1'\n",
    "\n",
    "# Extracting only the PMID and Abstract\n",
    "df_abstracts = pd.DataFrame(df, columns=['PMID', 'Title', 'Abstract'])\n",
    "display(df_abstracts)\n",
    "\n",
    "# check if data folder exists, if not create it\n",
    "if not os.path.exists('data'):\n",
    "    os.makedirs('data')\n",
    "\n",
    "# save to csv\n",
    "df_abstracts.to_csv('data/pubmedabstracts.csv', index=False)\n",
    "\n",
    "\n",
    "metadata_columns = ['PMID', 'Title', 'Abstract']\n",
    "# load the csv into a list of documents\n",
    "loader = MetaDataCSVLoader(file_path=\"data/pubmedabstracts.csv\", \n",
    "                           metadata_columns=metadata_columns, \n",
    "                           encoding=\"utf-8\")\n",
    "bg_data = loader.load()\n",
    "\n",
    "print(len(bg_data))\n",
    "print(type(bg_data[0]))\n",
    "# Create an instance of the FilteringClient using the data\n",
    "openai = FilteringClient(bg_data)\n",
    "\n"
   ]
  },
  {
   "cell_type": "code",
   "execution_count": 3,
   "metadata": {},
   "outputs": [
    {
     "name": "stdout",
     "output_type": "stream",
     "text": [
      "Loading DB\n"
     ]
    },
    {
     "data": {
      "text/plain": [
       "<langchain_community.vectorstores.chroma.Chroma at 0x137c289b0>"
      ]
     },
     "execution_count": 3,
     "metadata": {},
     "output_type": "execute_result"
    }
   ],
   "source": [
    "openai.load_db()"
   ]
  },
  {
   "cell_type": "code",
   "execution_count": 5,
   "metadata": {
    "metadata": {}
   },
   "outputs": [
    {
     "data": {
      "text/plain": [
       "[Document(page_content='caused over 100,000 deaths in the United States, thus far. The decision to admit a patient must balance the risks of transmission with the benefit of being readily available to provide urgent supportive care should the patient develop complications. Thus, there is a significant benefit to being able to predict poor outcomes. We performed a targeted review of the literature, focusing on clinical and laboratory predictors of poor outcomes in COVID-19. Our case report and narrative review outline', metadata={'Abstract': \"[StringElement('In late December 2019, the coronavirus 2 (SARS-CoV-2) emerged in Wuhan, China. It quickly spread and emerged as a global pandemic with far-reaching impacts on society. As clinical research on this novel virus emerges, there is a limited amount of data that review clinical and laboratory predictors of severe disease. We present a case of a patient with severely elevated inflammatory markers who remained clinically stable during his hospital course.', attributes={'Label': 'INTRODUCTION', 'NlmCategory': 'BACKGROUND'}), StringElement('A 53-year-old male presented to the emergency room with 11 days of persistent fevers and new-onset anterior chest tightness. He was admitted to the hospital due to a reported oxygen desaturation at home to 87% (taken by his spouse, a healthcare professional) and ambulatory oxygen desaturation down to 87%. He was noted to have severely elevated inflammatory markers, lymphopenia, and computed tomography pulmonary angiograph findings consistent with COVID-19. He remained on room air and clinically stable throughout his 3-day hospital course. While his C-reactive protein levels improved, his ferritin and erythrocyte sedimentation rate continued to elevate. He was discharged home and was symptom-free within 4 days of hospital discharge.', attributes={'Label': 'CASE DISCUSSION', 'NlmCategory': 'METHODS'}), StringElement('COVID-19 has proven to be a viral disease with a high transmission rate, that has caused over 100,000 deaths in the United States, thus far. The decision to admit a patient must balance the risks of transmission with the benefit of being readily available to provide urgent supportive care should the patient develop complications. Thus, there is a significant benefit to being able to predict poor outcomes. We performed a targeted review of the literature, focusing on clinical and laboratory predictors of poor outcomes in COVID-19. Our case report and narrative review outline these findings within the context of our case.', attributes={'Label': 'DISCUSSION', 'NlmCategory': 'CONCLUSIONS'})]\", 'PMID': '33622836', 'Title': 'A Review of Clinical and Laboratory Predictors of Severe COVID-19 Disease.', 'row': 754, 'source': 'data/pubmedabstracts.csv'}),\n",
       " Document(page_content=\"severe complications or developed a severe illness in our study. Our study indicated that COVID-19 children present less severe symptoms and have better outcomes.']\", metadata={'Abstract': \"['We reported the clinical characteristics of a case series of 10 patients with coronavirus disease 2019 (COVID-19) aged from 1 year to 18 years. Seven patients had contact with confirmed COVID-19 family members before onset. Fever (4 [40.0%]) and cough (3 [30.0%]) were the most common symptoms. No patient showed leucopenia and lymphopenia on admission. Pneumonia was observed in chest CT images in 5 (50.0%) patients. Five (50.0%) patients received antiviral treatment. No patient had severe complications or developed a severe illness in our study. Our study indicated that COVID-19 children present less severe symptoms and have better outcomes.']\", 'PMID': '32270592', 'Title': 'Clinical characteristics of a case series of children with coronavirus disease 2019.', 'row': 762, 'source': 'data/pubmedabstracts.csv'}),\n",
       " Document(page_content=\"increased risk of CFS. Our study suggested that medical institutions should pay attention to the psychological consequences of the COVID-19 outbreak.']\", metadata={'Abstract': \"['As the SARS-COV-2 becomes a global pandemic, many researchers have a concern about the long COVID-19 complications. Chronic fatigue syndrome/myalgic encephalomyelitis (CFS/ME) is a persistent, debilitating, and unexplained fatigue disorder. We investigated psychological morbidities such as CFS and post-traumatic stress disorder (PTSD) among survivors of COVID-19 over 6 months. All COVID-19 survivors from the university-affiliated hospital of Tehran, Iran, were assessed 6 months after infection onset by a previously validated questionnaire based on the Fukuda guidelines for CFS/EM and DSM-5 Checklist for PTSD (The Post-traumatic Stress Disorder Checklist for DSM-5 or PCL-5) to determine the presence of stress disorder and chronic fatigue problems. A total of 120 patients were enrolled. The prevalence rate of fatigue symptoms was 17.5%. Twelve (10%) screened positive for chronic idiopathic fatigue (CIF), 6 (5%) for CFS-like with insufficient fatigue syndrome (CFSWIFS), and 3 (2.5%) for CFS. The mean total scores in PCL-5 were 9.27\\\\u2009±\\\\u200910.76 (range:0-44), and the prevalence rate of PTSD was 5.8%. There was no significant association after adjusting between CFS and PTSD, gender, comorbidities, and chloroquine phosphate administration. The obtained data revealed the prevalence of CFS among patients with COVID-19, which is almost similar to CFS prevalence in the general population. Moreover, PTSD in patients with COVID-19 is not associated with the increased risk of CFS. Our study suggested that medical institutions should pay attention to the psychological consequences of the COVID-19 outbreak.']\", 'PMID': '33528827', 'Title': 'Prevalence and correlates of chronic fatigue syndrome and post-traumatic stress disorder after the outbreak of the COVID-19.', 'row': 126, 'source': 'data/pubmedabstracts.csv'}),\n",
       " Document(page_content='symptoms develop until two weeks after symptom onset.3,5 The predominant symptoms reported in COVID-19 cases are cough, sore throat, fatigue, runny nose and fever.6 The majority of cases recover from the disease without clinical intervention; however, approximately 20% of global cases result in more severe outcomes, such as shortness of breath and pneumonia, necessitating hospitalisation and the requirement of additional oxygen or ventilation.7,8 Severe or fatal outcomes are generally more', metadata={'Abstract': \"[StringElement('This supplement to the series of regular Australian coronavirus disease 2019 (COVID-19) epidemiological reports describes the technical background to the surveillance data reported through Communicable Diseases Network Australia (CDNA) as part of the nationally-coordinated response to COVID-19.', attributes={'Label': 'SUMMARY'}), StringElement('Coronavirus disease 19 (COVID-19), caused by the novel severe acute respiratory syndrome coronavirus 2 (SARS-CoV-2), was first identified in humans in Wuhan, China, in December 2019. The disease subsequently spread rapidly, leading to a global pandemic.1 The predominant modes of transmission for COVID-19 are through direct or close contact with an infected person via respiratory droplets, or indirectly via contact with contaminated fomites.2 The median incubation period of COVID-19 is 5-6 days, ranging from 1 to 14 days.3,4 The infectious period remains uncertain; however, it is estimated to be from 48 hours before symptoms develop until two weeks after symptom onset.3,5 The predominant symptoms reported in COVID-19 cases are cough, sore throat, fatigue, runny nose and fever.6 The majority of cases recover from the disease without clinical intervention; however, approximately 20% of global cases result in more severe outcomes, such as shortness of breath and pneumonia, necessitating hospitalisation and the requirement of additional oxygen or ventilation.7,8 Severe or fatal outcomes are generally more common among elderly cases or those with comorbid conditions.8 A visual depiction of the severity spectrum of COVID-19, and of the data sources that we use in this report to measure aspects of severity, is provided in Figure 1.', attributes={'Label': 'BACKGROUND'})]\", 'PMID': '33499798', 'Title': 'Technical supplement - COVID-19 Australia: Epidemiology reporting Last updated 19 January 2021.', 'row': 861, 'source': 'data/pubmedabstracts.csv'})]"
      ]
     },
     "execution_count": 5,
     "metadata": {},
     "output_type": "execute_result"
    }
   ],
   "source": [
    "query_los = \"What are the outcomes of covid?\"\n",
    "\n",
    "retriever = openai.get_retriever()\n",
    "retriever.invoke(query_los)"
   ]
  },
  {
   "cell_type": "code",
   "execution_count": null,
   "metadata": {},
   "outputs": [],
   "source": [
    "#result[\"source_documents\"]"
   ]
  },
  {
   "cell_type": "code",
   "execution_count": null,
   "metadata": {},
   "outputs": [],
   "source": [
    "query_los = \"What is the treatment for covid?\"\n",
    "\n",
    "result = openai.print_result(query_los, system_template)\n",
    "print(result[\"source_documents\"])"
   ]
  },
  {
   "cell_type": "code",
   "execution_count": null,
   "metadata": {},
   "outputs": [],
   "source": [
    "for doc in result[\"source_documents\"]:\n",
    "    print(doc.metadata)\n",
    "    print(doc.page_content)\n",
    "\n",
    "    pmid = doc.metadata[\"PMID\"]\n",
    "    link = f\"https://pubmed.ncbi.nlm.nih.gov/{pmid}/\"\n",
    "    print(link)\n",
    "    print(\"\\n\\n\")"
   ]
  },
  {
   "cell_type": "code",
   "execution_count": null,
   "metadata": {},
   "outputs": [],
   "source": [
    "query_los = \"Wwhat is the effect of covid on the reproductive system?\"\n",
    "\n",
    "result = openai.print_result(query_los, system_template)\n",
    "print(result[\"source_documents\"])"
   ]
  },
  {
   "cell_type": "code",
   "execution_count": null,
   "metadata": {},
   "outputs": [],
   "source": [
    "for doc in result[\"source_documents\"]:\n",
    "    print(doc.metadata)\n",
    "    print(doc.page_content)\n",
    "    print(\"\\n\\n\")"
   ]
  },
  {
   "cell_type": "code",
   "execution_count": null,
   "metadata": {},
   "outputs": [],
   "source": [
    "client = PubMedClient()\n",
    "results = client.search('fever AND covid', max_results=10)\n",
    "id_list = results['IdList']\n",
    "papers = client.fetch_details(id_list)\n",
    "print(papers)\n",
    "df = create_df_fill_full_abstract(papers)\n",
    "display(df)\n",
    "\n",
    "extract_abstract = extract_keywords_from_results(df, keywords, study_designs)\n",
    "display(extract_abstract)"
   ]
  },
  {
   "cell_type": "code",
   "execution_count": null,
   "metadata": {},
   "outputs": [],
   "source": [
    "papers"
   ]
  },
  {
   "cell_type": "code",
   "execution_count": null,
   "metadata": {},
   "outputs": [],
   "source": [
    "extract_abstract.columns"
   ]
  },
  {
   "cell_type": "code",
   "execution_count": null,
   "metadata": {},
   "outputs": [],
   "source": [
    "pmid = papers[\"PubmedArticle\"][0][\"MedlineCitation\"][\"PMID\"]"
   ]
  },
  {
   "cell_type": "code",
   "execution_count": null,
   "metadata": {},
   "outputs": [],
   "source": [
    "str(pmid)"
   ]
  },
  {
   "cell_type": "code",
   "execution_count": null,
   "metadata": {},
   "outputs": [],
   "source": [
    "link = f\"https://pubmed.ncbi.nlm.nih.gov/{str(pmid)}\""
   ]
  }
 ],
 "metadata": {
  "kernelspec": {
   "display_name": "myenv",
   "language": "python",
   "name": "python3"
  },
  "language_info": {
   "codemirror_mode": {
    "name": "ipython",
    "version": 3
   },
   "file_extension": ".py",
   "mimetype": "text/x-python",
   "name": "python",
   "nbconvert_exporter": "python",
   "pygments_lexer": "ipython3",
   "version": "3.12.2"
  }
 },
 "nbformat": 4,
 "nbformat_minor": 2
}
